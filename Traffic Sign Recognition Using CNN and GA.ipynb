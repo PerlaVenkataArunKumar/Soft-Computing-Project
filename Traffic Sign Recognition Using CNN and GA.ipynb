{
  "cells": [
    {
      "cell_type": "code",
      "source": [
        "from google.colab import drive\n",
        "drive.mount('/content/drive')\n"
      ],
      "metadata": {
        "colab": {
          "base_uri": "https://localhost:8080/"
        },
        "id": "M6qXVilpa0t1",
        "outputId": "23377d93-6bf1-44f8-d655-e1d1ad835a06"
      },
      "execution_count": 1,
      "outputs": [
        {
          "output_type": "stream",
          "name": "stdout",
          "text": [
            "Mounted at /content/drive\n"
          ]
        }
      ]
    },
    {
      "cell_type": "code",
      "source": [
        "import numpy as np\n",
        "import pandas as pd\n",
        "import tensorflow as tf\n",
        "import os\n",
        "import cv2\n",
        "from PIL import Image\n",
        "import matplotlib.pyplot as plt\n",
        "from sklearn.model_selection import train_test_split\n"
      ],
      "metadata": {
        "id": "wbsZOG8hbJtu"
      },
      "execution_count": 2,
      "outputs": []
    },
    {
      "cell_type": "code",
      "source": [
        "data = []\n",
        "labels = []\n",
        "classes = 43  # Number of classes\n",
        "cur_path = os.getcwd()\n",
        "\n",
        "# Retrieve images and labels\n",
        "for i in range(classes):\n",
        "    path = os.path.join('/content/drive/MyDrive/GTSRB','Train', str(i))\n",
        "    images = os.listdir(path)\n",
        "    for img in images:\n",
        "        try:\n",
        "            image = Image.open(path + '/' + img)\n",
        "            image = image.resize((30, 30))  # Resize to 30x30\n",
        "            image = np.array(image)\n",
        "            data.append(image)\n",
        "            labels.append(i)\n",
        "        except Exception as e:\n",
        "            print(e)\n",
        "\n",
        "# Convert to numpy arrays\n",
        "data = np.array(data)\n",
        "labels = np.array(labels)\n"
      ],
      "metadata": {
        "id": "Stw6w17WbLRu"
      },
      "execution_count": 6,
      "outputs": []
    },
    {
      "cell_type": "code",
      "source": [
        "from sklearn.model_selection import train_test_split\n",
        "\n",
        "# Split the data\n",
        "X_train, X_test, y_train, y_test = train_test_split(data, labels, test_size=0.2, random_state=42)\n",
        "\n",
        "# Normalize the data\n",
        "X_train = X_train / 255.0\n",
        "X_test = X_test / 255.0\n"
      ],
      "metadata": {
        "id": "04FeKx4vbM0K"
      },
      "execution_count": 7,
      "outputs": []
    },
    {
      "cell_type": "code",
      "source": [
        "!pip install deap\n"
      ],
      "metadata": {
        "colab": {
          "base_uri": "https://localhost:8080/"
        },
        "id": "HO1h2THIbOlO",
        "outputId": "167a142c-2136-4edc-e3bf-8101b4390417"
      },
      "execution_count": 8,
      "outputs": [
        {
          "output_type": "stream",
          "name": "stdout",
          "text": [
            "Collecting deap\n",
            "  Downloading deap-1.4.1-cp310-cp310-manylinux_2_5_x86_64.manylinux1_x86_64.manylinux_2_17_x86_64.manylinux2014_x86_64.whl.metadata (13 kB)\n",
            "Requirement already satisfied: numpy in /usr/local/lib/python3.10/dist-packages (from deap) (1.26.4)\n",
            "Downloading deap-1.4.1-cp310-cp310-manylinux_2_5_x86_64.manylinux1_x86_64.manylinux_2_17_x86_64.manylinux2014_x86_64.whl (135 kB)\n",
            "\u001b[?25l   \u001b[90m━━━━━━━━━━━━━━━━━━━━━━━━━━━━━━━━━━━━━━━━\u001b[0m \u001b[32m0.0/135.4 kB\u001b[0m \u001b[31m?\u001b[0m eta \u001b[36m-:--:--\u001b[0m\r\u001b[2K   \u001b[90m━━━━━━━━━━━━━━━━━━━━━━━━━━━━━━━━━━━━━━━━\u001b[0m \u001b[32m135.4/135.4 kB\u001b[0m \u001b[31m9.6 MB/s\u001b[0m eta \u001b[36m0:00:00\u001b[0m\n",
            "\u001b[?25hInstalling collected packages: deap\n",
            "Successfully installed deap-1.4.1\n"
          ]
        }
      ]
    },
    {
      "cell_type": "code",
      "source": [
        "from deap import base, creator, tools, algorithms\n",
        "import random\n",
        "\n",
        "# Evaluation function for an individual\n",
        "def evaluate_individual(individual):\n",
        "    # Decode the hyperparameters\n",
        "    filters_1 = individual[0]\n",
        "    filters_2 = individual[1]\n",
        "    kernel_size = (individual[2], individual[2])\n",
        "    learning_rate = individual[3]\n",
        "    batch_size = individual[4]\n",
        "\n",
        "    # Define the CNN model\n",
        "    model = tf.keras.Sequential([\n",
        "        tf.keras.layers.Conv2D(filters=filters_1, kernel_size=(5, 5), activation='relu', input_shape=X_train.shape[1:]),\n",
        "        tf.keras.layers.Conv2D(filters=filters_2, kernel_size=kernel_size, activation='relu'),\n",
        "        tf.keras.layers.Flatten(),\n",
        "        tf.keras.layers.Dense(128, activation='relu'),\n",
        "        tf.keras.layers.Dense(classes, activation='softmax')\n",
        "    ])\n",
        "\n",
        "    # Compile the model\n",
        "    model.compile(optimizer=tf.keras.optimizers.Adam(learning_rate=learning_rate),\n",
        "                  loss='sparse_categorical_crossentropy',\n",
        "                  metrics=['accuracy'])\n",
        "\n",
        "    # Train the model (reduced epochs for evaluation speed)\n",
        "    history = model.fit(X_train, y_train, batch_size=batch_size, epochs=3, validation_data=(X_test, y_test), verbose=0)\n",
        "\n",
        "    # Get validation accuracy\n",
        "    val_accuracy = history.history['val_accuracy'][-1]\n",
        "    return val_accuracy,\n"
      ],
      "metadata": {
        "id": "46KsE7yDbQH4"
      },
      "execution_count": 9,
      "outputs": []
    },
    {
      "cell_type": "code",
      "source": [
        "creator.create(\"FitnessMax\", base.Fitness, weights=(1.0,))  # Maximize validation accuracy\n",
        "creator.create(\"Individual\", list, fitness=creator.FitnessMax)\n",
        "\n",
        "toolbox = base.Toolbox()\n",
        "toolbox.register(\"attr_filter1\", random.choice, [16, 32, 64, 128])  # Filters for the first Conv layer\n",
        "toolbox.register(\"attr_filter2\", random.choice, [16, 32, 64, 128])  # Filters for the second Conv layer\n",
        "toolbox.register(\"attr_kernel\", random.choice, [3, 5, 7])           # Kernel size\n",
        "toolbox.register(\"attr_lr\", random.uniform, 0.0001, 0.01)           # Learning rate\n",
        "toolbox.register(\"attr_batch\", random.choice, [16, 32, 64])         # Batch size\n",
        "\n",
        "# Individual and population\n",
        "toolbox.register(\"individual\", tools.initCycle, creator.Individual,\n",
        "                 (toolbox.attr_filter1, toolbox.attr_filter2, toolbox.attr_kernel, toolbox.attr_lr, toolbox.attr_batch))\n",
        "toolbox.register(\"population\", tools.initRepeat, list, toolbox.individual)\n",
        "\n",
        "# Genetic operators\n",
        "toolbox.register(\"mate\", tools.cxTwoPoint)\n",
        "toolbox.register(\"mutate\", tools.mutUniformInt, low=0, up=128, indpb=0.2)\n",
        "toolbox.register(\"select\", tools.selTournament, tournsize=3)\n",
        "toolbox.register(\"evaluate\", evaluate_individual)\n"
      ],
      "metadata": {
        "id": "YhpnfW1gbRtr"
      },
      "execution_count": 10,
      "outputs": []
    },
    {
      "cell_type": "code",
      "source": [
        "# GA parameters\n",
        "population = toolbox.population(n=10)  # Initial population size\n",
        "NGEN = 5                               # Number of generations\n",
        "CXPB, MUTPB = 0.5, 0.2                # Crossover and mutation probabilities\n",
        "\n",
        "# Run the Genetic Algorithm\n",
        "for gen in range(NGEN):\n",
        "    print(f\"Generation {gen + 1}\")\n",
        "    # Evaluate all individuals\n",
        "    fitnesses = map(toolbox.evaluate, population)\n",
        "    for ind, fit in zip(population, fitnesses):\n",
        "        ind.fitness.values = fit\n",
        "\n",
        "    # Select and generate new individuals\n",
        "    offspring = toolbox.select(population, len(population))\n",
        "    offspring = list(map(toolbox.clone, offspring))\n",
        "\n",
        "    # Apply crossover and mutation\n",
        "    for child1, child2 in zip(offspring[::2], offspring[1::2]):\n",
        "        if random.random() < CXPB:\n",
        "            toolbox.mate(child1, child2)\n",
        "            del child1.fitness.values\n",
        "            del child2.fitness.values\n",
        "\n",
        "    for mutant in offspring:\n",
        "        if random.random() < MUTPB:\n",
        "            toolbox.mutate(mutant)\n",
        "            del mutant.fitness.values\n",
        "\n",
        "    # Replace population with next generation\n",
        "    population[:] = offspring\n",
        "\n",
        "# Best individual\n",
        "best_individual = tools.selBest(population, 1)[0]\n",
        "print(f\"Best hyperparameters: {best_individual}\")\n"
      ],
      "metadata": {
        "colab": {
          "base_uri": "https://localhost:8080/"
        },
        "id": "7GUUwdDObT-O",
        "outputId": "b3017d37-3f89-46f7-e1b5-327d084fdacb"
      },
      "execution_count": 11,
      "outputs": [
        {
          "output_type": "stream",
          "name": "stdout",
          "text": [
            "Generation 1\n"
          ]
        },
        {
          "output_type": "stream",
          "name": "stderr",
          "text": [
            "/usr/local/lib/python3.10/dist-packages/keras/src/layers/convolutional/base_conv.py:107: UserWarning: Do not pass an `input_shape`/`input_dim` argument to a layer. When using Sequential models, prefer using an `Input(shape)` object as the first layer in the model instead.\n",
            "  super().__init__(activity_regularizer=activity_regularizer, **kwargs)\n"
          ]
        },
        {
          "output_type": "stream",
          "name": "stdout",
          "text": [
            "Generation 2\n",
            "Generation 3\n",
            "Generation 4\n",
            "Generation 5\n",
            "Best hyperparameters: [16, 93, 3, 0.003060158895301083, 27]\n"
          ]
        }
      ]
    },
    {
      "cell_type": "code",
      "source": [
        "best_filters_1 = best_individual[0]\n",
        "best_filters_2 = best_individual[1]\n",
        "best_kernel = (best_individual[2], best_individual[2])\n",
        "best_lr = best_individual[3]\n",
        "best_batch_size = best_individual[4]\n",
        "\n",
        "model = tf.keras.Sequential([\n",
        "    tf.keras.layers.Conv2D(filters=best_filters_1, kernel_size=(5, 5), activation='relu', input_shape=X_train.shape[1:]),\n",
        "    tf.keras.layers.Conv2D(filters=best_filters_2, kernel_size=best_kernel, activation='relu'),\n",
        "    tf.keras.layers.Flatten(),\n",
        "    tf.keras.layers.Dense(128, activation='relu'),\n",
        "    tf.keras.layers.Dense(classes, activation='softmax')\n",
        "])\n",
        "\n",
        "model.compile(optimizer=tf.keras.optimizers.Adam(learning_rate=best_lr),\n",
        "              loss='sparse_categorical_crossentropy',\n",
        "              metrics=['accuracy'])\n",
        "\n",
        "history = model.fit(X_train, y_train, batch_size=best_batch_size, epochs=15, validation_data=(X_test, y_test))\n"
      ],
      "metadata": {
        "colab": {
          "base_uri": "https://localhost:8080/"
        },
        "id": "to0YXFm-bVrE",
        "outputId": "490f58d8-ea94-4768-e0a8-44bd175172ab"
      },
      "execution_count": 12,
      "outputs": [
        {
          "output_type": "stream",
          "name": "stdout",
          "text": [
            "Epoch 1/15\n",
            "\u001b[1m1162/1162\u001b[0m \u001b[32m━━━━━━━━━━━━━━━━━━━━\u001b[0m\u001b[37m\u001b[0m \u001b[1m19s\u001b[0m 10ms/step - accuracy: 0.6524 - loss: 1.3668 - val_accuracy: 0.9521 - val_loss: 0.1792\n",
            "Epoch 2/15\n",
            "\u001b[1m1162/1162\u001b[0m \u001b[32m━━━━━━━━━━━━━━━━━━━━\u001b[0m\u001b[37m\u001b[0m \u001b[1m5s\u001b[0m 5ms/step - accuracy: 0.9678 - loss: 0.1103 - val_accuracy: 0.9685 - val_loss: 0.1187\n",
            "Epoch 3/15\n",
            "\u001b[1m1162/1162\u001b[0m \u001b[32m━━━━━━━━━━━━━━━━━━━━\u001b[0m\u001b[37m\u001b[0m \u001b[1m11s\u001b[0m 5ms/step - accuracy: 0.9789 - loss: 0.0738 - val_accuracy: 0.9549 - val_loss: 0.1946\n",
            "Epoch 4/15\n",
            "\u001b[1m1162/1162\u001b[0m \u001b[32m━━━━━━━━━━━━━━━━━━━━\u001b[0m\u001b[37m\u001b[0m \u001b[1m5s\u001b[0m 4ms/step - accuracy: 0.9782 - loss: 0.0782 - val_accuracy: 0.9329 - val_loss: 0.4410\n",
            "Epoch 5/15\n",
            "\u001b[1m1162/1162\u001b[0m \u001b[32m━━━━━━━━━━━━━━━━━━━━\u001b[0m\u001b[37m\u001b[0m \u001b[1m11s\u001b[0m 5ms/step - accuracy: 0.9793 - loss: 0.0836 - val_accuracy: 0.9741 - val_loss: 0.1085\n",
            "Epoch 6/15\n",
            "\u001b[1m1162/1162\u001b[0m \u001b[32m━━━━━━━━━━━━━━━━━━━━\u001b[0m\u001b[37m\u001b[0m \u001b[1m11s\u001b[0m 5ms/step - accuracy: 0.9856 - loss: 0.0527 - val_accuracy: 0.9764 - val_loss: 0.1611\n",
            "Epoch 7/15\n",
            "\u001b[1m1162/1162\u001b[0m \u001b[32m━━━━━━━━━━━━━━━━━━━━\u001b[0m\u001b[37m\u001b[0m \u001b[1m6s\u001b[0m 5ms/step - accuracy: 0.9878 - loss: 0.0538 - val_accuracy: 0.9791 - val_loss: 0.1188\n",
            "Epoch 8/15\n",
            "\u001b[1m1162/1162\u001b[0m \u001b[32m━━━━━━━━━━━━━━━━━━━━\u001b[0m\u001b[37m\u001b[0m \u001b[1m10s\u001b[0m 5ms/step - accuracy: 0.9923 - loss: 0.0351 - val_accuracy: 0.9682 - val_loss: 0.2359\n",
            "Epoch 9/15\n",
            "\u001b[1m1162/1162\u001b[0m \u001b[32m━━━━━━━━━━━━━━━━━━━━\u001b[0m\u001b[37m\u001b[0m \u001b[1m5s\u001b[0m 4ms/step - accuracy: 0.9903 - loss: 0.0464 - val_accuracy: 0.9713 - val_loss: 0.2511\n",
            "Epoch 10/15\n",
            "\u001b[1m1162/1162\u001b[0m \u001b[32m━━━━━━━━━━━━━━━━━━━━\u001b[0m\u001b[37m\u001b[0m \u001b[1m11s\u001b[0m 5ms/step - accuracy: 0.9922 - loss: 0.0371 - val_accuracy: 0.9836 - val_loss: 0.1453\n",
            "Epoch 11/15\n",
            "\u001b[1m1162/1162\u001b[0m \u001b[32m━━━━━━━━━━━━━━━━━━━━\u001b[0m\u001b[37m\u001b[0m \u001b[1m6s\u001b[0m 5ms/step - accuracy: 0.9894 - loss: 0.0562 - val_accuracy: 0.9806 - val_loss: 0.2031\n",
            "Epoch 12/15\n",
            "\u001b[1m1162/1162\u001b[0m \u001b[32m━━━━━━━━━━━━━━━━━━━━\u001b[0m\u001b[37m\u001b[0m \u001b[1m6s\u001b[0m 5ms/step - accuracy: 0.9916 - loss: 0.0534 - val_accuracy: 0.9832 - val_loss: 0.2312\n",
            "Epoch 13/15\n",
            "\u001b[1m1162/1162\u001b[0m \u001b[32m━━━━━━━━━━━━━━━━━━━━\u001b[0m\u001b[37m\u001b[0m \u001b[1m10s\u001b[0m 5ms/step - accuracy: 0.9922 - loss: 0.0499 - val_accuracy: 0.9758 - val_loss: 0.3213\n",
            "Epoch 14/15\n",
            "\u001b[1m1162/1162\u001b[0m \u001b[32m━━━━━━━━━━━━━━━━━━━━\u001b[0m\u001b[37m\u001b[0m \u001b[1m5s\u001b[0m 4ms/step - accuracy: 0.9922 - loss: 0.0585 - val_accuracy: 0.9762 - val_loss: 0.3435\n",
            "Epoch 15/15\n",
            "\u001b[1m1162/1162\u001b[0m \u001b[32m━━━━━━━━━━━━━━━━━━━━\u001b[0m\u001b[37m\u001b[0m \u001b[1m5s\u001b[0m 5ms/step - accuracy: 0.9938 - loss: 0.0501 - val_accuracy: 0.9829 - val_loss: 0.1911\n"
          ]
        }
      ]
    },
    {
      "cell_type": "code",
      "source": [
        "model.save('traffic_classifier_optimized.h5')\n"
      ],
      "metadata": {
        "colab": {
          "base_uri": "https://localhost:8080/"
        },
        "id": "bKB75fUPbXd-",
        "outputId": "dbf0ca65-5cd5-4cb8-e4a6-0a580f78cf3a"
      },
      "execution_count": 13,
      "outputs": [
        {
          "output_type": "stream",
          "name": "stderr",
          "text": [
            "WARNING:absl:You are saving your model as an HDF5 file via `model.save()` or `keras.saving.save_model(model)`. This file format is considered legacy. We recommend using instead the native Keras format, e.g. `model.save('my_model.keras')` or `keras.saving.save_model(model, 'my_model.keras')`. \n"
          ]
        }
      ]
    },
    {
      "cell_type": "code",
      "source": [
        "# Load the trained model\n",
        "from tensorflow.keras.models import load_model\n",
        "\n",
        "model = load_model('traffic_classifier_optimized.h5')\n",
        "\n",
        "# Define traffic sign labels\n",
        "classes = {\n",
        "    0: 'Speed limit (20km/h)', 1: 'Speed limit (30km/h)', 2: 'Speed limit (50km/h)',\n",
        "    3: 'Speed limit (60km/h)', 4: 'Speed limit (70km/h)', 5: 'Speed limit (80km/h)',\n",
        "    6: 'End of speed limit (80km/h)', 7: 'Speed limit (100km/h)', 8: 'Speed limit (120km/h)',\n",
        "    9: 'No passing', 10: 'No passing vehicles >3.5 metric tons', 11: 'Right of way at intersection',\n",
        "    12: 'Priority road', 13: 'Yield', 14: 'Stop', 15: 'No vehicles', 16: 'Vehicles >3.5 tons prohibited',\n",
        "    17: 'No entry', 18: 'General caution', 19: 'Dangerous curve left', 20: 'Dangerous curve right',\n",
        "    21: 'Double curve', 22: 'Bumpy road', 23: 'Slippery road', 24: 'Road narrows on the right',\n",
        "    25: 'Road work', 26: 'Traffic signals', 27: 'Pedestrians', 28: 'Children crossing',\n",
        "    29: 'Bicycles crossing', 30: 'Beware of ice/snow', 31: 'Wild animals crossing',\n",
        "    32: 'End of speed + passing limits', 33: 'Turn right ahead', 34: 'Turn left ahead',\n",
        "    35: 'Ahead only', 36: 'Go straight or right', 37: 'Go straight or left', 38: 'Keep right',\n",
        "    39: 'Keep left', 40: 'Roundabout mandatory', 41: 'End of no passing', 42: 'End no passing >3.5 tons'\n",
        "}\n",
        "\n",
        "# Function to predict a new image\n",
        "def predict_new_image(img_path):\n",
        "    img = Image.open(img_path).resize((30, 30))\n",
        "    img_array = np.expand_dims(np.array(img) / 255.0, axis=0)\n",
        "    prediction = np.argmax(model.predict(img_array))\n",
        "    plt.imshow(img)\n",
        "    plt.title(f\"Predicted: {classes[prediction]}\")\n",
        "    plt.axis('off')\n",
        "    plt.show()\n",
        "    return classes[prediction]\n",
        "\n",
        "# Test with a new image\n",
        "img_path = '11623.png'  # Update with your image path\n",
        "predicted_class = predict_new_image(img_path)\n",
        "print(f\"The predicted class is: {predicted_class}\")\n"
      ],
      "metadata": {
        "colab": {
          "base_uri": "https://localhost:8080/",
          "height": 500
        },
        "id": "5FzLEod9oTDB",
        "outputId": "7f72b7a7-e9cb-4d05-e900-958bfa7ad17e"
      },
      "execution_count": 17,
      "outputs": [
        {
          "output_type": "stream",
          "name": "stderr",
          "text": [
            "WARNING:absl:Compiled the loaded model, but the compiled metrics have yet to be built. `model.compile_metrics` will be empty until you train or evaluate the model.\n"
          ]
        },
        {
          "output_type": "stream",
          "name": "stdout",
          "text": [
            "\u001b[1m1/1\u001b[0m \u001b[32m━━━━━━━━━━━━━━━━━━━━\u001b[0m\u001b[37m\u001b[0m \u001b[1m0s\u001b[0m 185ms/step\n"
          ]
        },
        {
          "output_type": "display_data",
          "data": {
            "text/plain": [
              "<Figure size 640x480 with 1 Axes>"
            ],
            "image/png": "[encoded data removed]"
          },
          "metadata": {}
        },
        {
          "output_type": "stream",
          "name": "stdout",
          "text": [
            "The predicted class is: Road work\n"
          ]
        }
      ]
    }
  ],
  "metadata": {
    "accelerator": "GPU",
    "colab": {
      "provenance": []
    },
    "kernelspec": {
      "display_name": "Python 3",
      "language": "python",
      "name": "python3"
    },
    "language_info": {
      "codemirror_mode": {
        "name": "ipython",
        "version": 3
      },
      "file_extension": ".py",
      "mimetype": "text/x-python",
      "name": "python",
      "nbconvert_exporter": "python",
      "pygments_lexer": "ipython3",
      "version": "3.7.12"
    }
  },
  "nbformat": 4,
  "nbformat_minor": 0
}